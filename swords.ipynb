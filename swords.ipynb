{
 "cells": [
  {
   "cell_type": "code",
   "execution_count": null,
   "metadata": {
    "collapsed": false
   },
   "outputs": [],
   "source": [
    "from io import BytesIO\n",
    "\n",
    "import pandas as pd\n",
    "import numpy as np\n",
    "import requests\n",
    "\n",
    "from bokeh.plotting import figure, show, output_notebook\n",
    "from bokeh.palettes import viridis, Spectral10, Paired10, Set1_9, Set3_12, Dark2_8, Accent8\n",
    "from bokeh.models import LabelSet, ColumnDataSource\n",
    "\n",
    "output_notebook()"
   ]
  },
  {
   "cell_type": "code",
   "execution_count": null,
   "metadata": {
    "collapsed": true
   },
   "outputs": [],
   "source": [
    "def download_csv(csv_url):\n",
    "    response = requests.get(csv_url)\n",
    "    assert response.status_code == 200, 'Unable to download csv ' + csv_url\n",
    "    return pd.read_csv(BytesIO(response.content)).dropna()\n",
    "\n",
    "# swords csv:\n",
    "#     sword: the name of the sword\n",
    "#     weight: total weight of the sword\n",
    "#     length: total length of the sword\n",
    "#     balance: distance from the pommel to the balance point\n",
    "#     pivot: distance from the pommel to the example pivot point\n",
    "#     impact: distance from the pommel to the example impact point\n",
    "\n",
    "# poi csv:\n",
    "#     sword: the name of the sword\n",
    "#     cm: distance from the pommel to the point of interest\n",
    "#     label: the label of the point of interest\n",
    "\n",
    "swords = download_csv('http://goo.gl/tqDCX0').set_index('sword')\n",
    "poi = download_csv('http://goo.gl/wbJNoa')"
   ]
  },
  {
   "cell_type": "code",
   "execution_count": null,
   "metadata": {
    "collapsed": false
   },
   "outputs": [],
   "source": [
    "swords"
   ]
  },
  {
   "cell_type": "code",
   "execution_count": null,
   "metadata": {
    "collapsed": false
   },
   "outputs": [],
   "source": [
    "poi"
   ]
  },
  {
   "cell_type": "code",
   "execution_count": null,
   "metadata": {
    "collapsed": false
   },
   "outputs": [],
   "source": [
    "def graph_curves(only=None, show_labels=False):\n",
    "    if only:\n",
    "        swords_to_graph = only\n",
    "    else:\n",
    "        swords_to_graph = swords.index.values\n",
    "    \n",
    "    palette = Set1_9 + Dark2_8 + Accent8\n",
    "    \n",
    "    f = figure(title='Effective mass', width=900, y_range=(0, 2000))\n",
    "    \n",
    "    for i, sword_name in enumerate(swords_to_graph):\n",
    "        sword = swords.ix[sword_name]\n",
    "        \n",
    "        l1 = abs(sword.impact - sword.balance)\n",
    "        l2 = abs(sword.pivot - sword.balance)\n",
    "        rectangle_area = l1 * l2\n",
    "\n",
    "        def pivot_for_impact(impact):\n",
    "            l1 = abs(impact - sword.balance)\n",
    "            l2 = rectangle_area / l1\n",
    "            pivot = sword.balance - l2\n",
    "            return pivot\n",
    "\n",
    "        def inertia_at_point(cm):\n",
    "            impact = cm\n",
    "            pivot = pivot_for_impact(impact)\n",
    "            balance_to_impact = abs(impact - sword.balance)\n",
    "            balance_to_pivot = abs(pivot - sword.balance)\n",
    "\n",
    "            # to half the perimeter of our rectangle, which is just the length of the moment arm of the lever. \n",
    "            return sword.weight * (balance_to_pivot / (balance_to_pivot + balance_to_impact))\n",
    "\n",
    "        points = pd.DataFrame()\n",
    "        points['cm'] = [x for x in range(int(sword.length) + 1) if x != sword.balance]\n",
    "        # TODO fix range int\n",
    "        points['g'] = points['cm'].apply(inertia_at_point)\n",
    "        \n",
    "        f.line(\n",
    "            points.cm.values, \n",
    "            points.g.values, \n",
    "            legend=None,\n",
    "            line_width=1,\n",
    "            line_color=palette[i],\n",
    "        )\n",
    "        \n",
    "        sword_poi = poi[poi.sword == sword_name].copy()\n",
    "        sword_poi['g'] = sword_poi['cm'].apply(inertia_at_point)\n",
    "        \n",
    "        f.circle(sword_poi.cm.values, \n",
    "                 sword_poi.g.values, \n",
    "                 legend=sword_name,\n",
    "                 color=palette[i],\n",
    "                 size=7)\n",
    "        \n",
    "        if show_labels:\n",
    "            source = ColumnDataSource(data=sword_poi)\n",
    "            labels = LabelSet(source=source, \n",
    "                              x='cm', y='g', text='label',\n",
    "                              x_offset=5, y_offset=5)\n",
    "            f.add_layout(labels)\n",
    "        \n",
    "\n",
    "    f.xaxis.axis_label = 'cm'\n",
    "    f.yaxis.axis_label = 'g'\n",
    "    \n",
    "    show(f)"
   ]
  },
  {
   "cell_type": "code",
   "execution_count": null,
   "metadata": {
    "collapsed": false
   },
   "outputs": [],
   "source": [
    "graph_curves(show_labels=True)"
   ]
  }
 ],
 "metadata": {
  "kernelspec": {
   "display_name": "Python 3",
   "language": "python",
   "name": "python3"
  },
  "language_info": {
   "codemirror_mode": {
    "name": "ipython",
    "version": 3
   },
   "file_extension": ".py",
   "mimetype": "text/x-python",
   "name": "python",
   "nbconvert_exporter": "python",
   "pygments_lexer": "ipython3",
   "version": "3.5.1+"
  }
 },
 "nbformat": 4,
 "nbformat_minor": 0
}
