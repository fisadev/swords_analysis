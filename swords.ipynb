{
 "cells": [
  {
   "cell_type": "code",
   "execution_count": null,
   "metadata": {
    "collapsed": false
   },
   "outputs": [],
   "source": [
    "from io import BytesIO\n",
    "\n",
    "import pandas as pd\n",
    "import numpy as np\n",
    "import requests\n",
    "\n",
    "from bokeh.plotting import figure, show, output_notebook\n",
    "from bokeh.palettes import viridis\n",
    "from bokeh.models import LabelSet, ColumnDataSource\n",
    "\n",
    "output_notebook()"
   ]
  },
  {
   "cell_type": "code",
   "execution_count": null,
   "metadata": {
    "collapsed": true
   },
   "outputs": [],
   "source": [
    "def download_data(spreadsheet_url):\n",
    "    \"\"\"\n",
    "    Download the spreadsheet with the swords data, and convert it to a dataframe.\n",
    "    \n",
    "    The spreadsheet should have the following columns:\n",
    "        sword_name: the name of the measured sword for the current row\n",
    "        cm: the position of the measurement, as cm from the pommel\n",
    "        g: the weight of the sword at that position\n",
    "        notes: is that point special?\n",
    "    \"\"\"\n",
    "    \n",
    "    response = requests.get(spreadsheet_url)\n",
    "    assert response.status_code == 200, 'Unable to download swords data'\n",
    "\n",
    "    data = pd.read_csv(BytesIO(response.content))\n",
    "\n",
    "    return data"
   ]
  },
  {
   "cell_type": "code",
   "execution_count": null,
   "metadata": {
    "collapsed": false
   },
   "outputs": [],
   "source": [
    "swords = download_data('http://goo.gl/wbJNoa')"
   ]
  },
  {
   "cell_type": "code",
   "execution_count": null,
   "metadata": {
    "collapsed": false
   },
   "outputs": [],
   "source": [
    "def graph_swords(swords, only=None, show_labels=False):\n",
    "    \"\"\"Graph the swords measurements as lines.\"\"\"\n",
    "    f = figure(title='Effective mass', width=900, y_range=(0, 2000))\n",
    "    \n",
    "    if only:\n",
    "        swords_to_graph = only\n",
    "    else:\n",
    "        swords_to_graph = swords.sword.unique()\n",
    "        \n",
    "    palette = viridis(len(swords_to_graph))\n",
    "        \n",
    "    for i, sword in enumerate(swords_to_graph):\n",
    "        sword_data = swords[swords.sword == sword]\n",
    "        f.line(sword_data.cm.values, \n",
    "               sword_data.g.values, \n",
    "               legend=sword, \n",
    "               line_color=palette[i],\n",
    "               line_width=1)\n",
    "        \n",
    "        sword_poi = sword_data.dropna()\n",
    "        f.circle(sword_poi.cm.values, \n",
    "                 sword_poi.g.values, \n",
    "                 legend=None,\n",
    "                 color=palette[i],\n",
    "                 size=7)\n",
    "        \n",
    "        if show_labels:\n",
    "            source = ColumnDataSource(data=sword_poi)\n",
    "            labels = LabelSet(source=source, \n",
    "                              x='cm', y='g', text='notes',\n",
    "                              x_offset=5, y_offset=5)\n",
    "            f.add_layout(labels)\n",
    "        \n",
    "    f.xaxis.axis_label = 'cm'\n",
    "    f.yaxis.axis_label = 'g'\n",
    "    \n",
    "    show(f)    "
   ]
  },
  {
   "cell_type": "code",
   "execution_count": null,
   "metadata": {
    "collapsed": false
   },
   "outputs": [],
   "source": [
    "graph_swords(swords)"
   ]
  },
  {
   "cell_type": "code",
   "execution_count": null,
   "metadata": {
    "collapsed": false
   },
   "outputs": [],
   "source": [
    "graph_swords(swords, only=['katana_dan'], show_labels=True)"
   ]
  }
 ],
 "metadata": {
  "kernelspec": {
   "display_name": "Python 3",
   "language": "python",
   "name": "python3"
  },
  "language_info": {
   "codemirror_mode": {
    "name": "ipython",
    "version": 3
   },
   "file_extension": ".py",
   "mimetype": "text/x-python",
   "name": "python",
   "nbconvert_exporter": "python",
   "pygments_lexer": "ipython3",
   "version": "3.5.1+"
  }
 },
 "nbformat": 4,
 "nbformat_minor": 0
}
